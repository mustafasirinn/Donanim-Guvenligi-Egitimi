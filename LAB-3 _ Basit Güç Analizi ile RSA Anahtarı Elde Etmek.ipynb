{
 "cells": [
  {
   "cell_type": "markdown",
   "metadata": {},
   "source": [
    "Bu örneğimizde, RSA şifreleme işlemi gerçekleştiren XMEGA hedef kartından Basit Güç Analizi ile anahtarı elde etmeye çalışacağız."
   ]
  },
  {
   "cell_type": "code",
   "execution_count": null,
   "metadata": {},
   "outputs": [],
   "source": [
    "SCOPETYPE = 'OPENADC'\n",
    "PLATFORM = 'CW303'\n",
    "CRYPTO_TARGET = 'AVRCRYPTOLIB'"
   ]
  },
  {
   "cell_type": "code",
   "execution_count": null,
   "metadata": {},
   "outputs": [],
   "source": [
    "%run \"Helper_Scripts/Setup_Generic.ipynb\""
   ]
  },
  {
   "cell_type": "markdown",
   "metadata": {},
   "source": [
    "Simpleserial içerisinden rsa için oluşturulan yazılımı hedef kartımıza yüklüyoruz."
   ]
  },
  {
   "cell_type": "code",
   "execution_count": null,
   "metadata": {},
   "outputs": [],
   "source": [
    "fw_path = '../hardware/victims/firmware/simpleserial-rsa/simpleserial-rsa-CW303.hex'\n",
    "cw.program_target(scope, prog, fw_path)"
   ]
  },
  {
   "cell_type": "markdown",
   "metadata": {},
   "source": [
    "Sample sayımızı 24000 olarak ayarlıyoruz. Uzun bir grafik elde edip işleme geniş açıdan bakacağız. "
   ]
  },
  {
   "cell_type": "code",
   "execution_count": null,
   "metadata": {},
   "outputs": [],
   "source": [
    "scope.adc.samples = 24000\n",
    "scope.clock.adc_src = \"clkgen_x1\"\n",
    "#RSA is slow – we capture at 1x speed & also extend capture size.\n",
    "#clkgen_x1”: CLKGEN output via DCM\n",
    "\n",
    "#“clkgen_x4”: CLKGEN output via DCM with x4 clk multiplier\n",
    "\n",
    "#“extclk_x1”: External clock input via DCM\n",
    "\n",
    "#“extclk_x4”: External clock input via DCM with x4 clk multiplier\n",
    "\n",
    "#“extclk_dir”: External clock input with no DCM"
   ]
  },
  {
   "cell_type": "markdown",
   "metadata": {},
   "source": [
    "Başlangıçta giriş ve anahtar için boş değerler atıyoruz.  \n",
    "Hedef kodumuz içerisinde anahtar barındırmadığı için dışarıdan biz vereceğiz anahtar."
   ]
  },
  {
   "cell_type": "code",
   "execution_count": null,
   "metadata": {},
   "outputs": [],
   "source": [
    "target.init_cmd = \"\"\n",
    "target.input_cmd = \"\"\n",
    "target.key_cmd = \"\""
   ]
  },
  {
   "cell_type": "markdown",
   "metadata": {},
   "source": [
    "Anahtara belirli değerler vererek RSA şifrelemesinin sonucunun grafiğini inceliyoruz. (Anahtarımız son tanımladığımız oluyor.)"
   ]
  },
  {
   "cell_type": "code",
   "execution_count": null,
   "metadata": {},
   "outputs": [],
   "source": [
    "%matplotlib notebook\n",
    "import matplotlib.pylab as plt\n",
    "key = bytearray ([0, 0, 0, 0, 0, 0, 0, 0, 0, 0, 0, 0, 0, 0, 0x80, 0x00])\n",
    "trace = cw.capture_trace (scope, target, key,key)\n",
    "#plt.plot(trace.wave ,'r')\n",
    "key = bytearray ([0, 0, 0, 0, 0, 0, 0, 0, 0, 0, 0, 0, 0, 0, 0x80,0x10])\n",
    "trace = cw.capture_trace (scope, target, key, key)\n",
    "#plt.plot(trace.wave, 'b')\n",
    "key = bytearray ([0, 0, 0, 0, 0, 0, 0, 0, 0, 0, 0, 0, 0, 0, 0x8A,0xA0])\n",
    "trace = cw.capture_trace (scope, target, key, key)\n",
    "plt.plot(trace.wave, 'k')"
   ]
  },
  {
   "cell_type": "markdown",
   "metadata": {},
   "source": [
    "Belirli bir noktaya kadar eş giden grafikte sonrasında gecikmeler ve bozulmalar görülmektedir. Burada değişime başlanmadan önceki bir noktayı referans numarası olarak kabul edip başlangıçtan itibaren tüm değerlerin farkını alarak ilk değerden çıkarıyoruz. Devam eden işlemin sinyal değişiklikleri hakkında bilgi edinmiş oluyoruz ve bununla güç izimiz anahtarı anlayabileceğimiz forma geliyor."
   ]
  },
  {
   "cell_type": "code",
   "execution_count": null,
   "metadata": {},
   "outputs": [],
   "source": [
    "%matplotlib notebook\n",
    "import numpy as np\n",
    "start = 3600\n",
    "rsa_one = trace.wave[start:(start+500)]\n",
    "diffs = []\n",
    "for i in range (0, 23499):\n",
    "    diff = trace.wave[i:(i+len(rsa_one))] - rsa_one\n",
    "    diffs.append(np.sum(abs(diff)))\n",
    "plt.figure()\n",
    "plt.plot(diffs)"
   ]
  },
  {
   "cell_type": "markdown",
   "metadata": {},
   "source": [
    "Farkın az olduğu noktaları işlem farklılığı hakkında bilgi verdiği için seçiyoruz. Bu grafiğe göre 10'dan düşük değere sahip noktalar bize işlem hakkında bilgi verecektir. Hangi noktalarda olduğuna bakıyoruz."
   ]
  },
  {
   "cell_type": "code",
   "execution_count": null,
   "metadata": {},
   "outputs": [],
   "source": [
    "import numpy as np\n",
    "np.where(np.array(diffs)<10)"
   ]
  },
  {
   "cell_type": "markdown",
   "metadata": {},
   "source": [
    "Bulduğumuz nokta aralıkları arasındaki farkı belirli bir referans değeri ile karşılaştırıp anahtarımızı yazıyoruz.\n",
    "*Burada belirlediğimiz referans değeri 10'dan küçük değerlerin olduğu indislere göre belirlenir."
   ]
  },
  {
   "cell_type": "code",
   "execution_count": null,
   "metadata": {},
   "outputs": [],
   "source": [
    "import numpy as np\n",
    "key = \"\"\n",
    "times = np.where(np.array(diffs)<10)[0]\n",
    "for i in range (0, len(times)-1):\n",
    "    delta = times[i+1] - times[i]\n",
    "    #print (delta)\n",
    "    if delta > 1500:\n",
    "        key += \"1\"\n",
    "    else:\n",
    "        key += \"0\"\n",
    "key += \"0\"\n",
    "print(key)\n",
    "print(\"%04X\"%int(key,2))"
   ]
  },
  {
   "cell_type": "markdown",
   "metadata": {},
   "source": [
    "Grafiği daha iyi görebilmek için filtre de uygulayabiliriz. Burada alçak geçiren filtre uygulayarak sinyali daha anlaşılır ve gürültülerden arınmış şekilde görebiliriz."
   ]
  },
  {
   "cell_type": "code",
   "execution_count": null,
   "metadata": {},
   "outputs": [],
   "source": [
    "%matplotlib notebook\n",
    "from scipy.signal import butter , lfilter\n",
    "\n",
    "b, a = butter(3, 0.001, btype=\"low\")\n",
    "y = lfilter(b, a, trace.wave)\n",
    "\n",
    "plt.plot(y)"
   ]
  },
  {
   "cell_type": "code",
   "execution_count": null,
   "metadata": {},
   "outputs": [],
   "source": [
    "scope.dis()\n",
    "target.dis()\n",
    "#bu kod chipwhisperer aracımız ile olan bağlantıyı sonlandırır."
   ]
  },
  {
   "cell_type": "code",
   "execution_count": null,
   "metadata": {},
   "outputs": [],
   "source": []
  }
 ],
 "metadata": {
  "kernelspec": {
   "display_name": "Python 3",
   "language": "python",
   "name": "python3"
  },
  "language_info": {
   "codemirror_mode": {
    "name": "ipython",
    "version": 3
   },
   "file_extension": ".py",
   "mimetype": "text/x-python",
   "name": "python",
   "nbconvert_exporter": "python",
   "pygments_lexer": "ipython3",
   "version": "3.6.7"
  },
  "toc": {
   "base_numbering": 1,
   "nav_menu": {},
   "number_sections": true,
   "sideBar": true,
   "skip_h1_title": false,
   "title_cell": "Table of Contents",
   "title_sidebar": "Contents",
   "toc_cell": false,
   "toc_position": {},
   "toc_section_display": true,
   "toc_window_display": false
  }
 },
 "nbformat": 4,
 "nbformat_minor": 2
}
