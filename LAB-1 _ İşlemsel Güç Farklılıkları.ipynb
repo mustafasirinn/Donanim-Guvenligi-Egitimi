{
 "cells": [
  {
   "cell_type": "markdown",
   "metadata": {},
   "source": [
    "Bu örnekte, güç analizinin bir mikroişlemci üzerinde yapılan işlemleri nasıl söyleyebileceğini, yapılan işlemler ile güç izinin nasıl değiştiğini göreceğiz. Cihazlarda çeşitli güvenlik önlemlerini kırmak için gerekli güç izi profilini incelemeyi bu işlem ile temel olarak öğreneceğiz. "
   ]
  },
  {
   "cell_type": "markdown",
   "metadata": {},
   "source": [
    "Test yapmak için hedef uygulamaya özel program kodumuzu yazmalıyız. Bunun için öncelikle kullandığımız platformu ve test edeceğimiz platformu yazdığımız programda tanıtmalıyız.\n",
    "SCOPETYPE değişkenine kullandığımız Chipwhisperer kartını tanımlıyoruz. CWLite ve CWPro için OPENADC, CWNano için CWNANO tanımlamasını yapıyoruz.\n",
    "PLATFORM değişkenine test edeceğimiz kartı tanımlıyoruz. API bize temelde 2 ana platformu hazır halde sunuyor. AVR için CWLITEXMEGA, ARM için CWLITEARM platformlarını kullanabiliyoruz. PLATFORM değişkenini tanıtmamızın nedeni yaptığımız uygulamanın mikrodenetleyicisine uygun derleyici kullanmak ve ona uygun işlemleri yapmaktır. API, AVR için avr-gcc --version, ARM için arm-none-eabi-gcc --version kullanmaktadır. Bu, PLATFORM tanımlamasında kullandığımız tanımlamanın (AVR için CWLITEXMEGA, ARM için CWLITEARM) içinde gömülüdür."
   ]
  },
  {
   "cell_type": "code",
   "execution_count": null,
   "metadata": {},
   "outputs": [],
   "source": [
    "SCOPETYPE = 'OPENADC'\n",
    "PLATFORM = 'CWLITEXMEGA'"
   ]
  },
  {
   "cell_type": "markdown",
   "metadata": {},
   "source": [
    "Jupyter Notebook'ta çalıştığımız için buradaki kod bloğumuza %%bash komutu ile Linux bash ekranını çağırıyoruz. Böylelikle sistem içerisindeki dosya ve dizinlere komutlarla erişim sağlayabiliriz. \n",
    "Test edeceğimiz sistem için bir firmware kurulumu yapacağız.\n",
    "cd komutu ile test uygulaması için gerekli firmware'lerin bağlı olduğu dizine geçiyoruz.\n",
    "mkdir ile firmware'imize dizin oluşturuyoruz ve simpleserial-base dizinindeki her şeyi buraya kopyalıyoruz. Burada firmware olarak API tarafından sunulan simpleserial-base kullanacağız.\n",
    "cd komutu ile firmware dizinimize giriyoruz."
   ]
  },
  {
   "cell_type": "markdown",
   "metadata": {},
   "source": [
    "\"SimpleSerial, ChipWhisperer projesinin neredeyse tamamı için kullanılan iletişim protokolüdür. Çoğu sistemde kolayca uygulanabilen çok basit bir seri iletişim protokolüdür. Asenkron, 38400 baud, 8-N-1 kullanarak iletişim kurar.\""
   ]
  },
  {
   "cell_type": "code",
   "execution_count": null,
   "metadata": {},
   "outputs": [],
   "source": [
    "%%bash\n",
    "cd ../hardware/victims/firmware/\n",
    "mkdir -p simpleserial-base-lab2 && cp -r simpleserial-base/* $_\n",
    "cd simpleserial-base-lab2"
   ]
  },
  {
   "cell_type": "markdown",
   "metadata": {},
   "source": [
    "Bu örnekte kripto kullanmayacağımız için CRYPTO_TARGET değişkenini NONE olarak tanımladık. API'nin sunduğu parametrelerden birkaçı: avrcryptolib, mbedtls, micro-ecc, secAES-ATmega8515, tiny-AES128-C"
   ]
  },
  {
   "cell_type": "code",
   "execution_count": null,
   "metadata": {},
   "outputs": [],
   "source": [
    "CRYPTO_TARGET = \"NONE\""
   ]
  },
  {
   "cell_type": "markdown",
   "metadata": {},
   "source": [
    "Firmware dizinimize girerek belirttiğimiz PLATFORM ve CRYPTO_TARGET parametreleriyle make komutunu kullanarak derleme işlemini yapıyoruz."
   ]
  },
  {
   "cell_type": "code",
   "execution_count": null,
   "metadata": {
    "scrolled": true
   },
   "outputs": [],
   "source": [
    "%%bash -s \"$PLATFORM\" \"$CRYPTO_TARGET\"\n",
    "cd ../hardware/victims/firmware/simpleserial-base-lab2\n",
    "make PLATFORM=$1 CRYPTO_TARGET=$2"
   ]
  },
  {
   "cell_type": "markdown",
   "metadata": {},
   "source": [
    "Yüklediğimiz yazılım kayda değer bir işlem gerçekleştirmeyen (basit giriş çıkış işlemleri) programdır.\n",
    "Yüklediğimiz yazılımın güç izini incelemeden önce programın kodunu açarak trigger'ın aktif olduğu high olduğu komut ile low olduğu komut arasına basit bir for döngüsü ekleyeceğiz. Güç izinin, döngünün ne kadar sürdüğüne bağlı olarak nasıl değiştiğine bakacağız."
   ]
  },
  {
   "cell_type": "markdown",
   "metadata": {},
   "source": [
    "Değişiklik yaptığımız için tekrar derliyoruz."
   ]
  },
  {
   "cell_type": "code",
   "execution_count": null,
   "metadata": {
    "scrolled": true
   },
   "outputs": [],
   "source": [
    "%%bash -s \"$PLATFORM\" \"$CRYPTO_TARGET\"\n",
    "cd ../hardware/victims/firmware/simpleserial-base-lab2\n",
    "make PLATFORM=$1 CRYPTO_TARGET=$2"
   ]
  },
  {
   "cell_type": "markdown",
   "metadata": {},
   "source": [
    "Hedef kart ile bağlantıyı kuruyoruz."
   ]
  },
  {
   "cell_type": "code",
   "execution_count": null,
   "metadata": {},
   "outputs": [],
   "source": [
    "%run \"Helper_Scripts/Setup_Generic.ipynb\""
   ]
  },
  {
   "cell_type": "markdown",
   "metadata": {},
   "source": [
    "Varsayılan olarak, kapsam ihtiyaç duyduğumuzdan çok daha fazla iz yakalayacaktır, bu nedenle bunu sample'ı 1000'e indireceğiz. fw_path değişkeni ile derlenmiş kodumuzun yolunu tutuyoruz."
   ]
  },
  {
   "cell_type": "code",
   "execution_count": null,
   "metadata": {},
   "outputs": [],
   "source": [
    "scope.adc.samples = 1000\n",
    "fw_path = '../hardware/victims/firmware/simpleserial-base-lab2/simpleserial-base-{}.hex'.format(PLATFORM)"
   ]
  },
  {
   "cell_type": "markdown",
   "metadata": {},
   "source": [
    "Hedef kartın yazılımını yüklüyoruz."
   ]
  },
  {
   "cell_type": "code",
   "execution_count": null,
   "metadata": {},
   "outputs": [],
   "source": [
    "cw.program_target(scope, prog, fw_path)"
   ]
  },
  {
   "cell_type": "markdown",
   "metadata": {},
   "source": [
    "Bu örnekte hedefin kapsam özellikleri ile ilgilenmeyeceğiz. İlgilenecek olursak aşağıdaki komut ile hedef cihazımız ile ilgili bilgilere erişebiliriz."
   ]
  },
  {
   "cell_type": "code",
   "execution_count": null,
   "metadata": {
    "scrolled": true
   },
   "outputs": [],
   "source": [
    "print(scope)"
   ]
  },
  {
   "cell_type": "markdown",
   "metadata": {},
   "source": [
    "Hazırladığımız programın güç izini aşağıdaki kodla inceliyoruz. Burada programa eklediğimiz for dönügüsü ile gecikme oluşturduğumuz için güç izini incelediğimizde başlangıçta 5 tane tepe görüyoruz. Bu for döngümüzün 5 kere tekrar etmesiyle oluşan gecikmedir."
   ]
  },
  {
   "cell_type": "code",
   "execution_count": null,
   "metadata": {},
   "outputs": [],
   "source": [
    "import holoviews as hv\n",
    "hv.extension('bokeh')\n",
    "import numpy as np\n",
    "ktp = cw.ktp.Basic()\n",
    "key, text = ktp.next()  # Bir key, text çiftinin elle oluşturulması burada değiştirilebilir\n",
    "\n",
    "trace = cw.capture_trace(scope, target, text)\n",
    "hv.Curve(trace.wave).opts(width=600, height=400)"
   ]
  },
  {
   "cell_type": "markdown",
   "metadata": {},
   "source": [
    "Grafikte döngüyü doğrudan görebiliyoruz. Döngünün bizim müdahalemiz olduğundan emin olmak için kodu ilk haline getirip güç izini tekrar inceleyelim."
   ]
  },
  {
   "cell_type": "markdown",
   "metadata": {},
   "source": [
    "Değiştirilmiş kodu tekrar derleyelim."
   ]
  },
  {
   "cell_type": "code",
   "execution_count": null,
   "metadata": {
    "scrolled": true
   },
   "outputs": [],
   "source": [
    "%%bash -s \"$PLATFORM\" \"$CRYPTO_TARGET\"\n",
    "cd ../hardware/victims/firmware/simpleserial-base-lab2\n",
    "make PLATFORM=$1 CRYPTO_TARGET=$2"
   ]
  },
  {
   "cell_type": "markdown",
   "metadata": {},
   "source": [
    "Tekrar programlayalım"
   ]
  },
  {
   "cell_type": "code",
   "execution_count": null,
   "metadata": {},
   "outputs": [],
   "source": [
    "cw.program_target(scope, prog, fw_path)"
   ]
  },
  {
   "cell_type": "markdown",
   "metadata": {},
   "source": [
    "Yeni izi yakalayım ve inceleyelim."
   ]
  },
  {
   "cell_type": "code",
   "execution_count": null,
   "metadata": {
    "scrolled": true
   },
   "outputs": [],
   "source": [
    "trace2 = cw.capture_trace(scope, target, text)\n",
    "hv.Curve(trace2.wave).opts(width=600, height=600)"
   ]
  },
  {
   "cell_type": "markdown",
   "metadata": {},
   "source": [
    "Chipwhisperer ve test kartımızla bağlantımızı kesiyoruz."
   ]
  },
  {
   "cell_type": "code",
   "execution_count": null,
   "metadata": {},
   "outputs": [],
   "source": [
    "scope.dis()\n",
    "target.dis()"
   ]
  }
 ],
 "metadata": {
  "kernelspec": {
   "display_name": "Python 3",
   "language": "python",
   "name": "python3"
  },
  "language_info": {
   "codemirror_mode": {
    "name": "ipython",
    "version": 3
   },
   "file_extension": ".py",
   "mimetype": "text/x-python",
   "name": "python",
   "nbconvert_exporter": "python",
   "pygments_lexer": "ipython3",
   "version": "3.6.7"
  },
  "toc": {
   "base_numbering": 1,
   "nav_menu": {},
   "number_sections": true,
   "sideBar": true,
   "skip_h1_title": false,
   "title_cell": "Table of Contents",
   "title_sidebar": "Contents",
   "toc_cell": false,
   "toc_position": {},
   "toc_section_display": true,
   "toc_window_display": false
  }
 },
 "nbformat": 4,
 "nbformat_minor": 2
}
